{
 "cells": [
  {
   "cell_type": "code",
   "execution_count": 1,
   "id": "7f577b82",
   "metadata": {},
   "outputs": [],
   "source": [
    "#for mathematical computation\n",
    "import pandas as pd\n",
    "import numpy as np\n",
    "import scipy.stats as stats\n",
    "import datetime\n",
    "\n",
    "#for data visualization\n",
    "\n",
    "import seaborn as sns\n",
    "import matplotlib.pyplot as plt\n",
    "from matplotlib.pyplot import figure\n",
    "\n",
    "# for API\n",
    "\n",
    "import requests\n",
    "from IPython.display import Image\n",
    "from pandas.plotting import andrews_curves\n",
    "%matplotlib inline\n",
    "\n",
    "#To displa all the columns\n",
    "\n",
    "pd.set_option('display.max_columns', None)"
   ]
  },
  {
   "cell_type": "markdown",
   "id": "a453e0d4",
   "metadata": {},
   "source": [
    "### Uploading the weather data"
   ]
  },
  {
   "cell_type": "code",
   "execution_count": 2,
   "id": "52b3ff2c",
   "metadata": {},
   "outputs": [],
   "source": [
    "Winter_2017 = pd.read_csv('../data/Weather/Winter_2017.csv',skiprows=3) #Dec 2016 - Feb 2017 Statewide Average Temperature\n",
    "Winter_2018 = pd.read_csv('../data/Weather/Winter_2018.csv',skiprows=3) #Dec 2017 - Feb 2018 Statewide Average Temperature\n",
    "Winter_2019 = pd.read_csv('../data/Weather/Winter_2019.csv',skiprows=3) #Dec 2018 - Feb 2019 Statewide Average Temperature\n",
    "#https://www.ncdc.noaa.gov/cag/statewide/mapping"
   ]
  },
  {
   "cell_type": "markdown",
   "id": "b44f6290",
   "metadata": {},
   "source": [
    "### Winter Weather "
   ]
  },
  {
   "cell_type": "code",
   "execution_count": 3,
   "id": "6ad876ae",
   "metadata": {},
   "outputs": [
    {
     "data": {
      "text/html": [
       "<div>\n",
       "<style scoped>\n",
       "    .dataframe tbody tr th:only-of-type {\n",
       "        vertical-align: middle;\n",
       "    }\n",
       "\n",
       "    .dataframe tbody tr th {\n",
       "        vertical-align: top;\n",
       "    }\n",
       "\n",
       "    .dataframe thead th {\n",
       "        text-align: right;\n",
       "    }\n",
       "</style>\n",
       "<table border=\"1\" class=\"dataframe\">\n",
       "  <thead>\n",
       "    <tr style=\"text-align: right;\">\n",
       "      <th></th>\n",
       "      <th>Location ID</th>\n",
       "      <th>Location</th>\n",
       "      <th>Value</th>\n",
       "      <th>Rank</th>\n",
       "      <th>Anomaly (1901-2000 base period)</th>\n",
       "      <th>1901-2000 Mean</th>\n",
       "    </tr>\n",
       "  </thead>\n",
       "  <tbody>\n",
       "    <tr>\n",
       "      <th>0</th>\n",
       "      <td>100</td>\n",
       "      <td>Alabama</td>\n",
       "      <td>52.7</td>\n",
       "      <td>123</td>\n",
       "      <td>6.1</td>\n",
       "      <td>46.6</td>\n",
       "    </tr>\n",
       "    <tr>\n",
       "      <th>1</th>\n",
       "      <td>200</td>\n",
       "      <td>Arizona</td>\n",
       "      <td>45.5</td>\n",
       "      <td>119</td>\n",
       "      <td>3.2</td>\n",
       "      <td>42.3</td>\n",
       "    </tr>\n",
       "    <tr>\n",
       "      <th>2</th>\n",
       "      <td>300</td>\n",
       "      <td>Arkansas</td>\n",
       "      <td>46.7</td>\n",
       "      <td>125</td>\n",
       "      <td>5.4</td>\n",
       "      <td>41.3</td>\n",
       "    </tr>\n",
       "    <tr>\n",
       "      <th>3</th>\n",
       "      <td>400</td>\n",
       "      <td>California</td>\n",
       "      <td>44.3</td>\n",
       "      <td>75</td>\n",
       "      <td>0.7</td>\n",
       "      <td>43.6</td>\n",
       "    </tr>\n",
       "    <tr>\n",
       "      <th>4</th>\n",
       "      <td>500</td>\n",
       "      <td>Colorado</td>\n",
       "      <td>28.6</td>\n",
       "      <td>113</td>\n",
       "      <td>3.2</td>\n",
       "      <td>25.4</td>\n",
       "    </tr>\n",
       "  </tbody>\n",
       "</table>\n",
       "</div>"
      ],
      "text/plain": [
       "   Location ID    Location  Value  Rank  Anomaly (1901-2000 base period)  \\\n",
       "0          100     Alabama   52.7   123                              6.1   \n",
       "1          200     Arizona   45.5   119                              3.2   \n",
       "2          300    Arkansas   46.7   125                              5.4   \n",
       "3          400  California   44.3    75                              0.7   \n",
       "4          500    Colorado   28.6   113                              3.2   \n",
       "\n",
       "   1901-2000 Mean  \n",
       "0            46.6  \n",
       "1            42.3  \n",
       "2            41.3  \n",
       "3            43.6  \n",
       "4            25.4  "
      ]
     },
     "execution_count": 3,
     "metadata": {},
     "output_type": "execute_result"
    }
   ],
   "source": [
    "Winter_2017.head()"
   ]
  },
  {
   "cell_type": "markdown",
   "id": "0704f37d",
   "metadata": {},
   "source": [
    "###                                    Create Pre-COVID weather data "
   ]
  },
  {
   "cell_type": "code",
   "execution_count": 4,
   "id": "a68c5fc5",
   "metadata": {},
   "outputs": [],
   "source": [
    "Winter_2017.rename(columns={'Value':'Temp_2017'},inplace=True)"
   ]
  },
  {
   "cell_type": "code",
   "execution_count": 5,
   "id": "834dc04d",
   "metadata": {},
   "outputs": [
    {
     "data": {
      "text/html": [
       "<div>\n",
       "<style scoped>\n",
       "    .dataframe tbody tr th:only-of-type {\n",
       "        vertical-align: middle;\n",
       "    }\n",
       "\n",
       "    .dataframe tbody tr th {\n",
       "        vertical-align: top;\n",
       "    }\n",
       "\n",
       "    .dataframe thead th {\n",
       "        text-align: right;\n",
       "    }\n",
       "</style>\n",
       "<table border=\"1\" class=\"dataframe\">\n",
       "  <thead>\n",
       "    <tr style=\"text-align: right;\">\n",
       "      <th></th>\n",
       "      <th>Location ID</th>\n",
       "      <th>Location</th>\n",
       "      <th>Temp_2017</th>\n",
       "    </tr>\n",
       "  </thead>\n",
       "  <tbody>\n",
       "    <tr>\n",
       "      <th>0</th>\n",
       "      <td>100</td>\n",
       "      <td>Alabama</td>\n",
       "      <td>52.7</td>\n",
       "    </tr>\n",
       "  </tbody>\n",
       "</table>\n",
       "</div>"
      ],
      "text/plain": [
       "   Location ID Location  Temp_2017\n",
       "0          100  Alabama       52.7"
      ]
     },
     "execution_count": 5,
     "metadata": {},
     "output_type": "execute_result"
    }
   ],
   "source": [
    "Winter_2017 = Winter_2017[['Location ID','Location','Temp_2017']]\n",
    "Winter_2017.head (1)"
   ]
  },
  {
   "cell_type": "code",
   "execution_count": 6,
   "id": "e01fc276",
   "metadata": {},
   "outputs": [],
   "source": [
    "Winter_2018.rename(columns={'Value':'Temp_2018'},inplace=True)"
   ]
  },
  {
   "cell_type": "code",
   "execution_count": 7,
   "id": "b8cb3754",
   "metadata": {},
   "outputs": [],
   "source": [
    "Winter_2018 = Winter_2018[['Location ID','Location','Temp_2018']]"
   ]
  },
  {
   "cell_type": "code",
   "execution_count": 8,
   "id": "98d653dd",
   "metadata": {},
   "outputs": [],
   "source": [
    "Winter_17_18 = pd.merge(Winter_2017,Winter_2018,how='inner',on = 'Location ID')"
   ]
  },
  {
   "cell_type": "code",
   "execution_count": 9,
   "id": "f8a52583",
   "metadata": {},
   "outputs": [
    {
     "data": {
      "text/html": [
       "<div>\n",
       "<style scoped>\n",
       "    .dataframe tbody tr th:only-of-type {\n",
       "        vertical-align: middle;\n",
       "    }\n",
       "\n",
       "    .dataframe tbody tr th {\n",
       "        vertical-align: top;\n",
       "    }\n",
       "\n",
       "    .dataframe thead th {\n",
       "        text-align: right;\n",
       "    }\n",
       "</style>\n",
       "<table border=\"1\" class=\"dataframe\">\n",
       "  <thead>\n",
       "    <tr style=\"text-align: right;\">\n",
       "      <th></th>\n",
       "      <th>Location ID</th>\n",
       "      <th>Location_x</th>\n",
       "      <th>Temp_2017</th>\n",
       "      <th>Location_y</th>\n",
       "      <th>Temp_2018</th>\n",
       "    </tr>\n",
       "  </thead>\n",
       "  <tbody>\n",
       "    <tr>\n",
       "      <th>0</th>\n",
       "      <td>100</td>\n",
       "      <td>Alabama</td>\n",
       "      <td>52.7</td>\n",
       "      <td>Alabama</td>\n",
       "      <td>48.4</td>\n",
       "    </tr>\n",
       "  </tbody>\n",
       "</table>\n",
       "</div>"
      ],
      "text/plain": [
       "   Location ID Location_x  Temp_2017 Location_y  Temp_2018\n",
       "0          100    Alabama       52.7    Alabama       48.4"
      ]
     },
     "execution_count": 9,
     "metadata": {},
     "output_type": "execute_result"
    }
   ],
   "source": [
    "Winter_17_18.head(1)"
   ]
  },
  {
   "cell_type": "code",
   "execution_count": 10,
   "id": "caf37a39",
   "metadata": {},
   "outputs": [],
   "source": [
    "Winter_2019.rename(columns={'Value':'Temp_2019'},inplace=True)"
   ]
  },
  {
   "cell_type": "code",
   "execution_count": 11,
   "id": "0460e678",
   "metadata": {},
   "outputs": [
    {
     "data": {
      "text/html": [
       "<div>\n",
       "<style scoped>\n",
       "    .dataframe tbody tr th:only-of-type {\n",
       "        vertical-align: middle;\n",
       "    }\n",
       "\n",
       "    .dataframe tbody tr th {\n",
       "        vertical-align: top;\n",
       "    }\n",
       "\n",
       "    .dataframe thead th {\n",
       "        text-align: right;\n",
       "    }\n",
       "</style>\n",
       "<table border=\"1\" class=\"dataframe\">\n",
       "  <thead>\n",
       "    <tr style=\"text-align: right;\">\n",
       "      <th></th>\n",
       "      <th>Location ID</th>\n",
       "      <th>Location</th>\n",
       "      <th>Temp_2019</th>\n",
       "      <th>Rank</th>\n",
       "      <th>Anomaly (1901-2000 base period)</th>\n",
       "      <th>1901-2000 Mean</th>\n",
       "    </tr>\n",
       "  </thead>\n",
       "  <tbody>\n",
       "    <tr>\n",
       "      <th>0</th>\n",
       "      <td>100</td>\n",
       "      <td>Alabama</td>\n",
       "      <td>50.5</td>\n",
       "      <td>116</td>\n",
       "      <td>4.0</td>\n",
       "      <td>46.5</td>\n",
       "    </tr>\n",
       "  </tbody>\n",
       "</table>\n",
       "</div>"
      ],
      "text/plain": [
       "   Location ID Location  Temp_2019  Rank  Anomaly (1901-2000 base period)  \\\n",
       "0          100  Alabama       50.5   116                              4.0   \n",
       "\n",
       "   1901-2000 Mean  \n",
       "0            46.5  "
      ]
     },
     "execution_count": 11,
     "metadata": {},
     "output_type": "execute_result"
    }
   ],
   "source": [
    "Winter_2019.head(1)"
   ]
  },
  {
   "cell_type": "code",
   "execution_count": 12,
   "id": "cd6dd940",
   "metadata": {},
   "outputs": [],
   "source": [
    "Winter_17_18_19= pd.merge(Winter_17_18,Winter_2019,how='inner', on='Location ID')"
   ]
  },
  {
   "cell_type": "code",
   "execution_count": 13,
   "id": "55373a15",
   "metadata": {},
   "outputs": [
    {
     "data": {
      "text/html": [
       "<div>\n",
       "<style scoped>\n",
       "    .dataframe tbody tr th:only-of-type {\n",
       "        vertical-align: middle;\n",
       "    }\n",
       "\n",
       "    .dataframe tbody tr th {\n",
       "        vertical-align: top;\n",
       "    }\n",
       "\n",
       "    .dataframe thead th {\n",
       "        text-align: right;\n",
       "    }\n",
       "</style>\n",
       "<table border=\"1\" class=\"dataframe\">\n",
       "  <thead>\n",
       "    <tr style=\"text-align: right;\">\n",
       "      <th></th>\n",
       "      <th>Location ID</th>\n",
       "      <th>Location_x</th>\n",
       "      <th>Temp_2017</th>\n",
       "      <th>Location_y</th>\n",
       "      <th>Temp_2018</th>\n",
       "      <th>Location</th>\n",
       "      <th>Temp_2019</th>\n",
       "      <th>Rank</th>\n",
       "      <th>Anomaly (1901-2000 base period)</th>\n",
       "      <th>1901-2000 Mean</th>\n",
       "    </tr>\n",
       "  </thead>\n",
       "  <tbody>\n",
       "    <tr>\n",
       "      <th>0</th>\n",
       "      <td>100</td>\n",
       "      <td>Alabama</td>\n",
       "      <td>52.7</td>\n",
       "      <td>Alabama</td>\n",
       "      <td>48.4</td>\n",
       "      <td>Alabama</td>\n",
       "      <td>50.5</td>\n",
       "      <td>116</td>\n",
       "      <td>4.0</td>\n",
       "      <td>46.5</td>\n",
       "    </tr>\n",
       "    <tr>\n",
       "      <th>1</th>\n",
       "      <td>200</td>\n",
       "      <td>Arizona</td>\n",
       "      <td>45.5</td>\n",
       "      <td>Arizona</td>\n",
       "      <td>47.0</td>\n",
       "      <td>Arizona</td>\n",
       "      <td>42.0</td>\n",
       "      <td>43</td>\n",
       "      <td>-0.2</td>\n",
       "      <td>42.2</td>\n",
       "    </tr>\n",
       "  </tbody>\n",
       "</table>\n",
       "</div>"
      ],
      "text/plain": [
       "   Location ID Location_x  Temp_2017 Location_y  Temp_2018 Location  \\\n",
       "0          100    Alabama       52.7    Alabama       48.4  Alabama   \n",
       "1          200    Arizona       45.5    Arizona       47.0  Arizona   \n",
       "\n",
       "   Temp_2019  Rank  Anomaly (1901-2000 base period)  1901-2000 Mean  \n",
       "0       50.5   116                              4.0            46.5  \n",
       "1       42.0    43                             -0.2            42.2  "
      ]
     },
     "execution_count": 13,
     "metadata": {},
     "output_type": "execute_result"
    }
   ],
   "source": [
    "Winter_17_18_19.head(2)"
   ]
  },
  {
   "cell_type": "code",
   "execution_count": 14,
   "id": "24452179",
   "metadata": {},
   "outputs": [],
   "source": [
    "pre_covid_winter = Winter_17_18_19[['Location','Temp_2017','Temp_2018','Temp_2019']]"
   ]
  },
  {
   "cell_type": "code",
   "execution_count": 15,
   "id": "dd9bf461",
   "metadata": {},
   "outputs": [
    {
     "data": {
      "text/html": [
       "<div>\n",
       "<style scoped>\n",
       "    .dataframe tbody tr th:only-of-type {\n",
       "        vertical-align: middle;\n",
       "    }\n",
       "\n",
       "    .dataframe tbody tr th {\n",
       "        vertical-align: top;\n",
       "    }\n",
       "\n",
       "    .dataframe thead th {\n",
       "        text-align: right;\n",
       "    }\n",
       "</style>\n",
       "<table border=\"1\" class=\"dataframe\">\n",
       "  <thead>\n",
       "    <tr style=\"text-align: right;\">\n",
       "      <th></th>\n",
       "      <th>Location</th>\n",
       "      <th>Temp_2017</th>\n",
       "      <th>Temp_2018</th>\n",
       "      <th>Temp_2019</th>\n",
       "    </tr>\n",
       "  </thead>\n",
       "  <tbody>\n",
       "    <tr>\n",
       "      <th>0</th>\n",
       "      <td>Alabama</td>\n",
       "      <td>52.7</td>\n",
       "      <td>48.4</td>\n",
       "      <td>50.5</td>\n",
       "    </tr>\n",
       "  </tbody>\n",
       "</table>\n",
       "</div>"
      ],
      "text/plain": [
       "  Location  Temp_2017  Temp_2018  Temp_2019\n",
       "0  Alabama       52.7       48.4       50.5"
      ]
     },
     "execution_count": 15,
     "metadata": {},
     "output_type": "execute_result"
    }
   ],
   "source": [
    "pre_covid_winter.head(1)"
   ]
  },
  {
   "cell_type": "code",
   "execution_count": 93,
   "id": "6d3d9875",
   "metadata": {},
   "outputs": [],
   "source": [
    "Temp_mean = round(pre_covid_winter.mean(axis=1),1)"
   ]
  },
  {
   "cell_type": "code",
   "execution_count": 94,
   "id": "ede2604b",
   "metadata": {},
   "outputs": [
    {
     "name": "stderr",
     "output_type": "stream",
     "text": [
      "<ipython-input-94-d91815161d52>:1: SettingWithCopyWarning: \n",
      "A value is trying to be set on a copy of a slice from a DataFrame.\n",
      "Try using .loc[row_indexer,col_indexer] = value instead\n",
      "\n",
      "See the caveats in the documentation: https://pandas.pydata.org/pandas-docs/stable/user_guide/indexing.html#returning-a-view-versus-a-copy\n",
      "  pre_covid_winter['Winter_Avg_Temp']= Temp_mean\n"
     ]
    }
   ],
   "source": [
    "pre_covid_winter['Winter_Avg_Temp']= Temp_mean"
   ]
  },
  {
   "cell_type": "code",
   "execution_count": 95,
   "id": "d4596610",
   "metadata": {},
   "outputs": [
    {
     "data": {
      "text/html": [
       "<div>\n",
       "<style scoped>\n",
       "    .dataframe tbody tr th:only-of-type {\n",
       "        vertical-align: middle;\n",
       "    }\n",
       "\n",
       "    .dataframe tbody tr th {\n",
       "        vertical-align: top;\n",
       "    }\n",
       "\n",
       "    .dataframe thead th {\n",
       "        text-align: right;\n",
       "    }\n",
       "</style>\n",
       "<table border=\"1\" class=\"dataframe\">\n",
       "  <thead>\n",
       "    <tr style=\"text-align: right;\">\n",
       "      <th></th>\n",
       "      <th>Location</th>\n",
       "      <th>Temp_2017</th>\n",
       "      <th>Temp_2018</th>\n",
       "      <th>Temp_2019</th>\n",
       "      <th>Winter_Avg_Temp</th>\n",
       "    </tr>\n",
       "  </thead>\n",
       "  <tbody>\n",
       "    <tr>\n",
       "      <th>0</th>\n",
       "      <td>Alabama</td>\n",
       "      <td>52.7</td>\n",
       "      <td>48.4</td>\n",
       "      <td>50.5</td>\n",
       "      <td>50.5</td>\n",
       "    </tr>\n",
       "  </tbody>\n",
       "</table>\n",
       "</div>"
      ],
      "text/plain": [
       "  Location  Temp_2017  Temp_2018  Temp_2019  Winter_Avg_Temp\n",
       "0  Alabama       52.7       48.4       50.5             50.5"
      ]
     },
     "execution_count": 95,
     "metadata": {},
     "output_type": "execute_result"
    }
   ],
   "source": [
    "pre_covid_winter.head(1)"
   ]
  },
  {
   "cell_type": "code",
   "execution_count": 19,
   "id": "640eb7f4",
   "metadata": {},
   "outputs": [],
   "source": [
    "coldest_states= pre_covid_winter.sort_values('Winter_Avg_Temp', ascending=True)"
   ]
  },
  {
   "cell_type": "code",
   "execution_count": 20,
   "id": "d797a405",
   "metadata": {},
   "outputs": [
    {
     "data": {
      "text/html": [
       "<div>\n",
       "<style scoped>\n",
       "    .dataframe tbody tr th:only-of-type {\n",
       "        vertical-align: middle;\n",
       "    }\n",
       "\n",
       "    .dataframe tbody tr th {\n",
       "        vertical-align: top;\n",
       "    }\n",
       "\n",
       "    .dataframe thead th {\n",
       "        text-align: right;\n",
       "    }\n",
       "</style>\n",
       "<table border=\"1\" class=\"dataframe\">\n",
       "  <thead>\n",
       "    <tr style=\"text-align: right;\">\n",
       "      <th></th>\n",
       "      <th>Location</th>\n",
       "      <th>Temp_2017</th>\n",
       "      <th>Temp_2018</th>\n",
       "      <th>Temp_2019</th>\n",
       "      <th>Winter_Avg_Temp</th>\n",
       "    </tr>\n",
       "  </thead>\n",
       "  <tbody>\n",
       "    <tr>\n",
       "      <th>31</th>\n",
       "      <td>North Dakota</td>\n",
       "      <td>14.0</td>\n",
       "      <td>10.9</td>\n",
       "      <td>9.3</td>\n",
       "      <td>11.400000</td>\n",
       "    </tr>\n",
       "    <tr>\n",
       "      <th>20</th>\n",
       "      <td>Minnesota</td>\n",
       "      <td>17.9</td>\n",
       "      <td>10.8</td>\n",
       "      <td>10.7</td>\n",
       "      <td>13.133333</td>\n",
       "    </tr>\n",
       "    <tr>\n",
       "      <th>38</th>\n",
       "      <td>South Dakota</td>\n",
       "      <td>20.4</td>\n",
       "      <td>17.1</td>\n",
       "      <td>16.5</td>\n",
       "      <td>18.000000</td>\n",
       "    </tr>\n",
       "    <tr>\n",
       "      <th>23</th>\n",
       "      <td>Montana</td>\n",
       "      <td>18.3</td>\n",
       "      <td>18.1</td>\n",
       "      <td>18.3</td>\n",
       "      <td>18.233333</td>\n",
       "    </tr>\n",
       "    <tr>\n",
       "      <th>46</th>\n",
       "      <td>Wisconsin</td>\n",
       "      <td>22.4</td>\n",
       "      <td>16.2</td>\n",
       "      <td>17.2</td>\n",
       "      <td>18.600000</td>\n",
       "    </tr>\n",
       "    <tr>\n",
       "      <th>16</th>\n",
       "      <td>Maine</td>\n",
       "      <td>20.9</td>\n",
       "      <td>18.0</td>\n",
       "      <td>16.9</td>\n",
       "      <td>18.600000</td>\n",
       "    </tr>\n",
       "    <tr>\n",
       "      <th>47</th>\n",
       "      <td>Wyoming</td>\n",
       "      <td>20.4</td>\n",
       "      <td>22.7</td>\n",
       "      <td>20.1</td>\n",
       "      <td>21.066667</td>\n",
       "    </tr>\n",
       "    <tr>\n",
       "      <th>42</th>\n",
       "      <td>Vermont</td>\n",
       "      <td>24.8</td>\n",
       "      <td>20.0</td>\n",
       "      <td>19.0</td>\n",
       "      <td>21.266667</td>\n",
       "    </tr>\n",
       "  </tbody>\n",
       "</table>\n",
       "</div>"
      ],
      "text/plain": [
       "        Location  Temp_2017  Temp_2018  Temp_2019  Winter_Avg_Temp\n",
       "31  North Dakota       14.0       10.9        9.3        11.400000\n",
       "20     Minnesota       17.9       10.8       10.7        13.133333\n",
       "38  South Dakota       20.4       17.1       16.5        18.000000\n",
       "23       Montana       18.3       18.1       18.3        18.233333\n",
       "46     Wisconsin       22.4       16.2       17.2        18.600000\n",
       "16         Maine       20.9       18.0       16.9        18.600000\n",
       "47       Wyoming       20.4       22.7       20.1        21.066667\n",
       "42       Vermont       24.8       20.0       19.0        21.266667"
      ]
     },
     "execution_count": 20,
     "metadata": {},
     "output_type": "execute_result"
    }
   ],
   "source": [
    "coldest_states.head(8)"
   ]
  },
  {
   "cell_type": "code",
   "execution_count": 21,
   "id": "18a7bbd6",
   "metadata": {},
   "outputs": [],
   "source": [
    "hot_states= round(pre_covid_winter.sort_values('Winter_Avg_Temp', ascending=False),1)"
   ]
  },
  {
   "cell_type": "code",
   "execution_count": 22,
   "id": "7b7f6ac4",
   "metadata": {},
   "outputs": [
    {
     "data": {
      "text/html": [
       "<div>\n",
       "<style scoped>\n",
       "    .dataframe tbody tr th:only-of-type {\n",
       "        vertical-align: middle;\n",
       "    }\n",
       "\n",
       "    .dataframe tbody tr th {\n",
       "        vertical-align: top;\n",
       "    }\n",
       "\n",
       "    .dataframe thead th {\n",
       "        text-align: right;\n",
       "    }\n",
       "</style>\n",
       "<table border=\"1\" class=\"dataframe\">\n",
       "  <thead>\n",
       "    <tr style=\"text-align: right;\">\n",
       "      <th></th>\n",
       "      <th>Location</th>\n",
       "      <th>Temp_2017</th>\n",
       "      <th>Temp_2018</th>\n",
       "      <th>Temp_2019</th>\n",
       "      <th>Winter_Avg_Temp</th>\n",
       "    </tr>\n",
       "  </thead>\n",
       "  <tbody>\n",
       "    <tr>\n",
       "      <th>7</th>\n",
       "      <td>Florida</td>\n",
       "      <td>64.7</td>\n",
       "      <td>62.0</td>\n",
       "      <td>62.6</td>\n",
       "      <td>63.1</td>\n",
       "    </tr>\n",
       "    <tr>\n",
       "      <th>15</th>\n",
       "      <td>Louisiana</td>\n",
       "      <td>57.7</td>\n",
       "      <td>51.8</td>\n",
       "      <td>53.4</td>\n",
       "      <td>54.3</td>\n",
       "    </tr>\n",
       "    <tr>\n",
       "      <th>8</th>\n",
       "      <td>Georgia</td>\n",
       "      <td>53.9</td>\n",
       "      <td>50.3</td>\n",
       "      <td>51.5</td>\n",
       "      <td>51.9</td>\n",
       "    </tr>\n",
       "    <tr>\n",
       "      <th>0</th>\n",
       "      <td>Alabama</td>\n",
       "      <td>52.7</td>\n",
       "      <td>48.4</td>\n",
       "      <td>50.5</td>\n",
       "      <td>50.5</td>\n",
       "    </tr>\n",
       "    <tr>\n",
       "      <th>21</th>\n",
       "      <td>Mississippi</td>\n",
       "      <td>53.1</td>\n",
       "      <td>48.0</td>\n",
       "      <td>50.1</td>\n",
       "      <td>50.4</td>\n",
       "    </tr>\n",
       "    <tr>\n",
       "      <th>40</th>\n",
       "      <td>Texas</td>\n",
       "      <td>52.9</td>\n",
       "      <td>48.0</td>\n",
       "      <td>49.1</td>\n",
       "      <td>50.0</td>\n",
       "    </tr>\n",
       "    <tr>\n",
       "      <th>37</th>\n",
       "      <td>South Carolina</td>\n",
       "      <td>52.0</td>\n",
       "      <td>48.6</td>\n",
       "      <td>49.4</td>\n",
       "      <td>50.0</td>\n",
       "    </tr>\n",
       "    <tr>\n",
       "      <th>3</th>\n",
       "      <td>California</td>\n",
       "      <td>44.3</td>\n",
       "      <td>47.7</td>\n",
       "      <td>43.8</td>\n",
       "      <td>45.3</td>\n",
       "    </tr>\n",
       "  </tbody>\n",
       "</table>\n",
       "</div>"
      ],
      "text/plain": [
       "          Location  Temp_2017  Temp_2018  Temp_2019  Winter_Avg_Temp\n",
       "7          Florida       64.7       62.0       62.6             63.1\n",
       "15       Louisiana       57.7       51.8       53.4             54.3\n",
       "8          Georgia       53.9       50.3       51.5             51.9\n",
       "0          Alabama       52.7       48.4       50.5             50.5\n",
       "21     Mississippi       53.1       48.0       50.1             50.4\n",
       "40           Texas       52.9       48.0       49.1             50.0\n",
       "37  South Carolina       52.0       48.6       49.4             50.0\n",
       "3       California       44.3       47.7       43.8             45.3"
      ]
     },
     "execution_count": 22,
     "metadata": {},
     "output_type": "execute_result"
    }
   ],
   "source": [
    "hot_states.head(8)"
   ]
  },
  {
   "cell_type": "code",
   "execution_count": 97,
   "id": "b67f64a1",
   "metadata": {},
   "outputs": [],
   "source": [
    "# pre_covid_winter.to_csv('../data/pre_covid_winter.csv', index = False) # Create a csv file of the Pre COVID winter"
   ]
  },
  {
   "cell_type": "markdown",
   "id": "6442a344",
   "metadata": {},
   "source": [
    "### Summer Months"
   ]
  },
  {
   "cell_type": "code",
   "execution_count": 24,
   "id": "36b8e78b",
   "metadata": {},
   "outputs": [],
   "source": [
    "Summer_2017 = pd.read_csv('../data/Weather/Summer_2017.csv',skiprows=3) #Jun 2017 - Aug 2017 Statewide Average Temperature\n",
    "Summer_2018 = pd.read_csv('../data/Weather/Summer_2018.csv',skiprows=3) #Jun 2018 - Aug 2018 Statewide Average Temperature\n",
    "Summer_2019 = pd.read_csv('../data/Weather/Summer_2019.csv',skiprows=3) #Jun 2019 - Aug 2019 Statewide Average Temperature"
   ]
  },
  {
   "cell_type": "code",
   "execution_count": 25,
   "id": "fcbf31aa",
   "metadata": {},
   "outputs": [
    {
     "data": {
      "text/html": [
       "<div>\n",
       "<style scoped>\n",
       "    .dataframe tbody tr th:only-of-type {\n",
       "        vertical-align: middle;\n",
       "    }\n",
       "\n",
       "    .dataframe tbody tr th {\n",
       "        vertical-align: top;\n",
       "    }\n",
       "\n",
       "    .dataframe thead th {\n",
       "        text-align: right;\n",
       "    }\n",
       "</style>\n",
       "<table border=\"1\" class=\"dataframe\">\n",
       "  <thead>\n",
       "    <tr style=\"text-align: right;\">\n",
       "      <th></th>\n",
       "      <th>Location ID</th>\n",
       "      <th>Location</th>\n",
       "      <th>Value</th>\n",
       "      <th>Rank</th>\n",
       "      <th>Anomaly (1901-2000 base period)</th>\n",
       "      <th>1901-2000 Mean</th>\n",
       "    </tr>\n",
       "  </thead>\n",
       "  <tbody>\n",
       "    <tr>\n",
       "      <th>0</th>\n",
       "      <td>100</td>\n",
       "      <td>Alabama</td>\n",
       "      <td>78.4</td>\n",
       "      <td>37</td>\n",
       "      <td>-0.5</td>\n",
       "      <td>78.9</td>\n",
       "    </tr>\n",
       "    <tr>\n",
       "      <th>1</th>\n",
       "      <td>200</td>\n",
       "      <td>Arizona</td>\n",
       "      <td>80.1</td>\n",
       "      <td>121</td>\n",
       "      <td>2.8</td>\n",
       "      <td>77.3</td>\n",
       "    </tr>\n",
       "    <tr>\n",
       "      <th>2</th>\n",
       "      <td>300</td>\n",
       "      <td>Arkansas</td>\n",
       "      <td>77.7</td>\n",
       "      <td>25</td>\n",
       "      <td>-1.1</td>\n",
       "      <td>78.8</td>\n",
       "    </tr>\n",
       "    <tr>\n",
       "      <th>3</th>\n",
       "      <td>400</td>\n",
       "      <td>California</td>\n",
       "      <td>76.5</td>\n",
       "      <td>126</td>\n",
       "      <td>4.3</td>\n",
       "      <td>72.2</td>\n",
       "    </tr>\n",
       "    <tr>\n",
       "      <th>4</th>\n",
       "      <td>500</td>\n",
       "      <td>Colorado</td>\n",
       "      <td>66.3</td>\n",
       "      <td>108</td>\n",
       "      <td>1.8</td>\n",
       "      <td>64.5</td>\n",
       "    </tr>\n",
       "  </tbody>\n",
       "</table>\n",
       "</div>"
      ],
      "text/plain": [
       "   Location ID    Location  Value  Rank  Anomaly (1901-2000 base period)  \\\n",
       "0          100     Alabama   78.4    37                             -0.5   \n",
       "1          200     Arizona   80.1   121                              2.8   \n",
       "2          300    Arkansas   77.7    25                             -1.1   \n",
       "3          400  California   76.5   126                              4.3   \n",
       "4          500    Colorado   66.3   108                              1.8   \n",
       "\n",
       "   1901-2000 Mean  \n",
       "0            78.9  \n",
       "1            77.3  \n",
       "2            78.8  \n",
       "3            72.2  \n",
       "4            64.5  "
      ]
     },
     "execution_count": 25,
     "metadata": {},
     "output_type": "execute_result"
    }
   ],
   "source": [
    "Summer_2017.head()"
   ]
  },
  {
   "cell_type": "code",
   "execution_count": 26,
   "id": "cbaa8652",
   "metadata": {},
   "outputs": [],
   "source": [
    "Summer_2017.rename(columns={'Value':'Temp_2017'},inplace=True)"
   ]
  },
  {
   "cell_type": "code",
   "execution_count": 27,
   "id": "b7a51f89",
   "metadata": {},
   "outputs": [
    {
     "data": {
      "text/html": [
       "<div>\n",
       "<style scoped>\n",
       "    .dataframe tbody tr th:only-of-type {\n",
       "        vertical-align: middle;\n",
       "    }\n",
       "\n",
       "    .dataframe tbody tr th {\n",
       "        vertical-align: top;\n",
       "    }\n",
       "\n",
       "    .dataframe thead th {\n",
       "        text-align: right;\n",
       "    }\n",
       "</style>\n",
       "<table border=\"1\" class=\"dataframe\">\n",
       "  <thead>\n",
       "    <tr style=\"text-align: right;\">\n",
       "      <th></th>\n",
       "      <th>Location ID</th>\n",
       "      <th>Location</th>\n",
       "      <th>Temp_2017</th>\n",
       "    </tr>\n",
       "  </thead>\n",
       "  <tbody>\n",
       "    <tr>\n",
       "      <th>0</th>\n",
       "      <td>100</td>\n",
       "      <td>Alabama</td>\n",
       "      <td>78.4</td>\n",
       "    </tr>\n",
       "  </tbody>\n",
       "</table>\n",
       "</div>"
      ],
      "text/plain": [
       "   Location ID Location  Temp_2017\n",
       "0          100  Alabama       78.4"
      ]
     },
     "execution_count": 27,
     "metadata": {},
     "output_type": "execute_result"
    }
   ],
   "source": [
    "Summer_2017 = Summer_2017[['Location ID','Location','Temp_2017']]\n",
    "Summer_2017.head (1)"
   ]
  },
  {
   "cell_type": "code",
   "execution_count": 28,
   "id": "3bf71a5f",
   "metadata": {},
   "outputs": [],
   "source": [
    "Summer_2018.rename(columns={'Value':'Temp_2018'},inplace=True)"
   ]
  },
  {
   "cell_type": "code",
   "execution_count": 29,
   "id": "e5e0cced",
   "metadata": {},
   "outputs": [],
   "source": [
    "Summer_2018 = Summer_2018[['Location ID','Location','Temp_2018']]"
   ]
  },
  {
   "cell_type": "code",
   "execution_count": 30,
   "id": "c4cc29ae",
   "metadata": {},
   "outputs": [],
   "source": [
    "Summer_17_18 = pd.merge(Summer_2017,Summer_2018,how='inner',on = 'Location ID')"
   ]
  },
  {
   "cell_type": "code",
   "execution_count": 31,
   "id": "f45542cc",
   "metadata": {},
   "outputs": [
    {
     "data": {
      "text/html": [
       "<div>\n",
       "<style scoped>\n",
       "    .dataframe tbody tr th:only-of-type {\n",
       "        vertical-align: middle;\n",
       "    }\n",
       "\n",
       "    .dataframe tbody tr th {\n",
       "        vertical-align: top;\n",
       "    }\n",
       "\n",
       "    .dataframe thead th {\n",
       "        text-align: right;\n",
       "    }\n",
       "</style>\n",
       "<table border=\"1\" class=\"dataframe\">\n",
       "  <thead>\n",
       "    <tr style=\"text-align: right;\">\n",
       "      <th></th>\n",
       "      <th>Location ID</th>\n",
       "      <th>Location_x</th>\n",
       "      <th>Temp_2017</th>\n",
       "      <th>Location_y</th>\n",
       "      <th>Temp_2018</th>\n",
       "    </tr>\n",
       "  </thead>\n",
       "  <tbody>\n",
       "    <tr>\n",
       "      <th>0</th>\n",
       "      <td>100</td>\n",
       "      <td>Alabama</td>\n",
       "      <td>78.4</td>\n",
       "      <td>Alabama</td>\n",
       "      <td>79.8</td>\n",
       "    </tr>\n",
       "    <tr>\n",
       "      <th>1</th>\n",
       "      <td>200</td>\n",
       "      <td>Arizona</td>\n",
       "      <td>80.1</td>\n",
       "      <td>Arizona</td>\n",
       "      <td>80.4</td>\n",
       "    </tr>\n",
       "  </tbody>\n",
       "</table>\n",
       "</div>"
      ],
      "text/plain": [
       "   Location ID Location_x  Temp_2017 Location_y  Temp_2018\n",
       "0          100    Alabama       78.4    Alabama       79.8\n",
       "1          200    Arizona       80.1    Arizona       80.4"
      ]
     },
     "execution_count": 31,
     "metadata": {},
     "output_type": "execute_result"
    }
   ],
   "source": [
    "Summer_17_18.head(2)"
   ]
  },
  {
   "cell_type": "code",
   "execution_count": 32,
   "id": "0fc5ca6a",
   "metadata": {},
   "outputs": [],
   "source": [
    "Summer_2019.rename(columns={'Value':'Temp_2019'},inplace=True)"
   ]
  },
  {
   "cell_type": "code",
   "execution_count": 33,
   "id": "6d504de5",
   "metadata": {},
   "outputs": [],
   "source": [
    "Summer_17_18_19= pd.merge(Summer_17_18,Summer_2019,how='inner', on='Location ID')"
   ]
  },
  {
   "cell_type": "code",
   "execution_count": 34,
   "id": "9e522aa2",
   "metadata": {},
   "outputs": [],
   "source": [
    "pre_covid_Summer = Summer_17_18_19[['Location','Temp_2017','Temp_2018','Temp_2019']]"
   ]
  },
  {
   "cell_type": "code",
   "execution_count": 35,
   "id": "4867c17f",
   "metadata": {},
   "outputs": [],
   "source": [
    "Summer_Temp_mean = pre_covid_Summer.mean(axis=1)"
   ]
  },
  {
   "cell_type": "code",
   "execution_count": 36,
   "id": "8275b315",
   "metadata": {},
   "outputs": [
    {
     "name": "stderr",
     "output_type": "stream",
     "text": [
      "<ipython-input-36-87643371dec1>:1: SettingWithCopyWarning: \n",
      "A value is trying to be set on a copy of a slice from a DataFrame.\n",
      "Try using .loc[row_indexer,col_indexer] = value instead\n",
      "\n",
      "See the caveats in the documentation: https://pandas.pydata.org/pandas-docs/stable/user_guide/indexing.html#returning-a-view-versus-a-copy\n",
      "  pre_covid_Summer['Summer_Avg_Temp']= round(Summer_Temp_mean,1)\n"
     ]
    }
   ],
   "source": [
    "pre_covid_Summer['Summer_Avg_Temp']= round(Summer_Temp_mean,1)"
   ]
  },
  {
   "cell_type": "code",
   "execution_count": 37,
   "id": "ba59f925",
   "metadata": {},
   "outputs": [
    {
     "data": {
      "text/html": [
       "<div>\n",
       "<style scoped>\n",
       "    .dataframe tbody tr th:only-of-type {\n",
       "        vertical-align: middle;\n",
       "    }\n",
       "\n",
       "    .dataframe tbody tr th {\n",
       "        vertical-align: top;\n",
       "    }\n",
       "\n",
       "    .dataframe thead th {\n",
       "        text-align: right;\n",
       "    }\n",
       "</style>\n",
       "<table border=\"1\" class=\"dataframe\">\n",
       "  <thead>\n",
       "    <tr style=\"text-align: right;\">\n",
       "      <th></th>\n",
       "      <th>Location</th>\n",
       "      <th>Temp_2017</th>\n",
       "      <th>Temp_2018</th>\n",
       "      <th>Temp_2019</th>\n",
       "      <th>Summer_Avg_Temp</th>\n",
       "    </tr>\n",
       "  </thead>\n",
       "  <tbody>\n",
       "    <tr>\n",
       "      <th>0</th>\n",
       "      <td>Alabama</td>\n",
       "      <td>78.4</td>\n",
       "      <td>79.8</td>\n",
       "      <td>79.8</td>\n",
       "      <td>79.3</td>\n",
       "    </tr>\n",
       "    <tr>\n",
       "      <th>1</th>\n",
       "      <td>Arizona</td>\n",
       "      <td>80.1</td>\n",
       "      <td>80.4</td>\n",
       "      <td>79.7</td>\n",
       "      <td>80.1</td>\n",
       "    </tr>\n",
       "    <tr>\n",
       "      <th>2</th>\n",
       "      <td>Arkansas</td>\n",
       "      <td>77.7</td>\n",
       "      <td>80.2</td>\n",
       "      <td>78.3</td>\n",
       "      <td>78.7</td>\n",
       "    </tr>\n",
       "    <tr>\n",
       "      <th>3</th>\n",
       "      <td>California</td>\n",
       "      <td>76.5</td>\n",
       "      <td>75.8</td>\n",
       "      <td>74.5</td>\n",
       "      <td>75.6</td>\n",
       "    </tr>\n",
       "    <tr>\n",
       "      <th>4</th>\n",
       "      <td>Colorado</td>\n",
       "      <td>66.3</td>\n",
       "      <td>67.6</td>\n",
       "      <td>66.0</td>\n",
       "      <td>66.6</td>\n",
       "    </tr>\n",
       "  </tbody>\n",
       "</table>\n",
       "</div>"
      ],
      "text/plain": [
       "     Location  Temp_2017  Temp_2018  Temp_2019  Summer_Avg_Temp\n",
       "0     Alabama       78.4       79.8       79.8             79.3\n",
       "1     Arizona       80.1       80.4       79.7             80.1\n",
       "2    Arkansas       77.7       80.2       78.3             78.7\n",
       "3  California       76.5       75.8       74.5             75.6\n",
       "4    Colorado       66.3       67.6       66.0             66.6"
      ]
     },
     "execution_count": 37,
     "metadata": {},
     "output_type": "execute_result"
    }
   ],
   "source": [
    "pre_covid_Summer.head()"
   ]
  },
  {
   "cell_type": "markdown",
   "id": "f9961be7",
   "metadata": {},
   "source": [
    "### Write to csv"
   ]
  },
  {
   "cell_type": "code",
   "execution_count": 38,
   "id": "1944e309",
   "metadata": {},
   "outputs": [],
   "source": [
    "#pre_covid_Summer.to_csv('../data/pre_covid_Summer.csv', index = False) # Create a csv file of the Pre COVID winter"
   ]
  },
  {
   "cell_type": "markdown",
   "id": "c331b029",
   "metadata": {},
   "source": [
    "### Birth data"
   ]
  },
  {
   "cell_type": "code",
   "execution_count": 39,
   "id": "3bc097a8",
   "metadata": {},
   "outputs": [],
   "source": [
    "Birth = pd.read_csv('../data/Birth/Birth_by_year.csv')"
   ]
  },
  {
   "cell_type": "code",
   "execution_count": 40,
   "id": "7ae9d6ec",
   "metadata": {
    "scrolled": true
   },
   "outputs": [
    {
     "data": {
      "text/html": [
       "<div>\n",
       "<style scoped>\n",
       "    .dataframe tbody tr th:only-of-type {\n",
       "        vertical-align: middle;\n",
       "    }\n",
       "\n",
       "    .dataframe tbody tr th {\n",
       "        vertical-align: top;\n",
       "    }\n",
       "\n",
       "    .dataframe thead th {\n",
       "        text-align: right;\n",
       "    }\n",
       "</style>\n",
       "<table border=\"1\" class=\"dataframe\">\n",
       "  <thead>\n",
       "    <tr style=\"text-align: right;\">\n",
       "      <th></th>\n",
       "      <th>CountryCode</th>\n",
       "      <th>Area</th>\n",
       "      <th>Year</th>\n",
       "      <th>January</th>\n",
       "      <th>February</th>\n",
       "      <th>March</th>\n",
       "      <th>April</th>\n",
       "      <th>May</th>\n",
       "      <th>June</th>\n",
       "      <th>July</th>\n",
       "      <th>August</th>\n",
       "      <th>September</th>\n",
       "      <th>October</th>\n",
       "      <th>November</th>\n",
       "      <th>December</th>\n",
       "      <th>UNK</th>\n",
       "      <th>TOT</th>\n",
       "    </tr>\n",
       "  </thead>\n",
       "  <tbody>\n",
       "    <tr>\n",
       "      <th>0</th>\n",
       "      <td>USA</td>\n",
       "      <td>1</td>\n",
       "      <td>2000</td>\n",
       "      <td>330108</td>\n",
       "      <td>317377</td>\n",
       "      <td>340553</td>\n",
       "      <td>317180</td>\n",
       "      <td>341207.0</td>\n",
       "      <td>341206</td>\n",
       "      <td>348975</td>\n",
       "      <td>360080</td>\n",
       "      <td>347609</td>\n",
       "      <td>343921</td>\n",
       "      <td>333811</td>\n",
       "      <td>336787</td>\n",
       "      <td>.</td>\n",
       "      <td>4058814</td>\n",
       "    </tr>\n",
       "    <tr>\n",
       "      <th>1</th>\n",
       "      <td>USA</td>\n",
       "      <td>1</td>\n",
       "      <td>2001</td>\n",
       "      <td>335198</td>\n",
       "      <td>303534</td>\n",
       "      <td>338684</td>\n",
       "      <td>323613</td>\n",
       "      <td>344017.0</td>\n",
       "      <td>331085</td>\n",
       "      <td>351047</td>\n",
       "      <td>361802</td>\n",
       "      <td>342564</td>\n",
       "      <td>344074</td>\n",
       "      <td>323746</td>\n",
       "      <td>326569</td>\n",
       "      <td>.</td>\n",
       "      <td>4025933</td>\n",
       "    </tr>\n",
       "    <tr>\n",
       "      <th>2</th>\n",
       "      <td>USA</td>\n",
       "      <td>1</td>\n",
       "      <td>2002</td>\n",
       "      <td>330674</td>\n",
       "      <td>303977</td>\n",
       "      <td>331505</td>\n",
       "      <td>324432</td>\n",
       "      <td>339007.0</td>\n",
       "      <td>327588</td>\n",
       "      <td>357669</td>\n",
       "      <td>359417</td>\n",
       "      <td>348814</td>\n",
       "      <td>345814</td>\n",
       "      <td>318573</td>\n",
       "      <td>334256</td>\n",
       "      <td>.</td>\n",
       "      <td>4021726</td>\n",
       "    </tr>\n",
       "    <tr>\n",
       "      <th>3</th>\n",
       "      <td>USA</td>\n",
       "      <td>1</td>\n",
       "      <td>2003</td>\n",
       "      <td>329803</td>\n",
       "      <td>307248</td>\n",
       "      <td>336920</td>\n",
       "      <td>330106</td>\n",
       "      <td>346754.0</td>\n",
       "      <td>337425</td>\n",
       "      <td>364226</td>\n",
       "      <td>360103</td>\n",
       "      <td>359644</td>\n",
       "      <td>354048</td>\n",
       "      <td>320094</td>\n",
       "      <td>343579</td>\n",
       "      <td>.</td>\n",
       "      <td>4089950</td>\n",
       "    </tr>\n",
       "    <tr>\n",
       "      <th>4</th>\n",
       "      <td>USA</td>\n",
       "      <td>1</td>\n",
       "      <td>2004</td>\n",
       "      <td>332907</td>\n",
       "      <td>315821</td>\n",
       "      <td>346348</td>\n",
       "      <td>333335</td>\n",
       "      <td>337651.0</td>\n",
       "      <td>344881</td>\n",
       "      <td>359426</td>\n",
       "      <td>355408</td>\n",
       "      <td>356033</td>\n",
       "      <td>348466</td>\n",
       "      <td>335704</td>\n",
       "      <td>346072</td>\n",
       "      <td>.</td>\n",
       "      <td>4112052</td>\n",
       "    </tr>\n",
       "  </tbody>\n",
       "</table>\n",
       "</div>"
      ],
      "text/plain": [
       "  CountryCode  Area  Year  January  February   March   April       May  \\\n",
       "0         USA     1  2000   330108    317377  340553  317180  341207.0   \n",
       "1         USA     1  2001   335198    303534  338684  323613  344017.0   \n",
       "2         USA     1  2002   330674    303977  331505  324432  339007.0   \n",
       "3         USA     1  2003   329803    307248  336920  330106  346754.0   \n",
       "4         USA     1  2004   332907    315821  346348  333335  337651.0   \n",
       "\n",
       "     June    July  August September October November December UNK      TOT  \n",
       "0  341206  348975  360080    347609  343921   333811   336787   .  4058814  \n",
       "1  331085  351047  361802    342564  344074   323746   326569   .  4025933  \n",
       "2  327588  357669  359417    348814  345814   318573   334256   .  4021726  \n",
       "3  337425  364226  360103    359644  354048   320094   343579   .  4089950  \n",
       "4  344881  359426  355408    356033  348466   335704   346072   .  4112052  "
      ]
     },
     "execution_count": 40,
     "metadata": {},
     "output_type": "execute_result"
    }
   ],
   "source": [
    "Birth.head()"
   ]
  },
  {
   "cell_type": "markdown",
   "id": "faad6ac9",
   "metadata": {},
   "source": [
    "### Summer births for 2017,2018,2019"
   ]
  },
  {
   "cell_type": "code",
   "execution_count": 41,
   "id": "ec48c0cf",
   "metadata": {},
   "outputs": [],
   "source": [
    "Summer = Birth[['Year','February','March','April','May']]"
   ]
  },
  {
   "cell_type": "code",
   "execution_count": 42,
   "id": "cd8333dc",
   "metadata": {},
   "outputs": [
    {
     "data": {
      "text/html": [
       "<div>\n",
       "<style scoped>\n",
       "    .dataframe tbody tr th:only-of-type {\n",
       "        vertical-align: middle;\n",
       "    }\n",
       "\n",
       "    .dataframe tbody tr th {\n",
       "        vertical-align: top;\n",
       "    }\n",
       "\n",
       "    .dataframe thead th {\n",
       "        text-align: right;\n",
       "    }\n",
       "</style>\n",
       "<table border=\"1\" class=\"dataframe\">\n",
       "  <thead>\n",
       "    <tr style=\"text-align: right;\">\n",
       "      <th></th>\n",
       "      <th>Year</th>\n",
       "      <th>February</th>\n",
       "      <th>March</th>\n",
       "      <th>April</th>\n",
       "      <th>May</th>\n",
       "    </tr>\n",
       "  </thead>\n",
       "  <tbody>\n",
       "    <tr>\n",
       "      <th>0</th>\n",
       "      <td>2000</td>\n",
       "      <td>317377</td>\n",
       "      <td>340553</td>\n",
       "      <td>317180</td>\n",
       "      <td>341207.0</td>\n",
       "    </tr>\n",
       "    <tr>\n",
       "      <th>1</th>\n",
       "      <td>2001</td>\n",
       "      <td>303534</td>\n",
       "      <td>338684</td>\n",
       "      <td>323613</td>\n",
       "      <td>344017.0</td>\n",
       "    </tr>\n",
       "    <tr>\n",
       "      <th>2</th>\n",
       "      <td>2002</td>\n",
       "      <td>303977</td>\n",
       "      <td>331505</td>\n",
       "      <td>324432</td>\n",
       "      <td>339007.0</td>\n",
       "    </tr>\n",
       "    <tr>\n",
       "      <th>3</th>\n",
       "      <td>2003</td>\n",
       "      <td>307248</td>\n",
       "      <td>336920</td>\n",
       "      <td>330106</td>\n",
       "      <td>346754.0</td>\n",
       "    </tr>\n",
       "    <tr>\n",
       "      <th>4</th>\n",
       "      <td>2004</td>\n",
       "      <td>315821</td>\n",
       "      <td>346348</td>\n",
       "      <td>333335</td>\n",
       "      <td>337651.0</td>\n",
       "    </tr>\n",
       "  </tbody>\n",
       "</table>\n",
       "</div>"
      ],
      "text/plain": [
       "   Year  February   March   April       May\n",
       "0  2000    317377  340553  317180  341207.0\n",
       "1  2001    303534  338684  323613  344017.0\n",
       "2  2002    303977  331505  324432  339007.0\n",
       "3  2003    307248  336920  330106  346754.0\n",
       "4  2004    315821  346348  333335  337651.0"
      ]
     },
     "execution_count": 42,
     "metadata": {},
     "output_type": "execute_result"
    }
   ],
   "source": [
    "Summer.head()"
   ]
  },
  {
   "cell_type": "code",
   "execution_count": 43,
   "id": "f3764540",
   "metadata": {},
   "outputs": [
    {
     "data": {
      "text/html": [
       "<div>\n",
       "<style scoped>\n",
       "    .dataframe tbody tr th:only-of-type {\n",
       "        vertical-align: middle;\n",
       "    }\n",
       "\n",
       "    .dataframe tbody tr th {\n",
       "        vertical-align: top;\n",
       "    }\n",
       "\n",
       "    .dataframe thead th {\n",
       "        text-align: right;\n",
       "    }\n",
       "</style>\n",
       "<table border=\"1\" class=\"dataframe\">\n",
       "  <thead>\n",
       "    <tr style=\"text-align: right;\">\n",
       "      <th></th>\n",
       "      <th>Year</th>\n",
       "      <th>February</th>\n",
       "      <th>March</th>\n",
       "      <th>April</th>\n",
       "      <th>May</th>\n",
       "    </tr>\n",
       "  </thead>\n",
       "  <tbody>\n",
       "    <tr>\n",
       "      <th>18</th>\n",
       "      <td>2018</td>\n",
       "      <td>284250</td>\n",
       "      <td>316044</td>\n",
       "      <td>298394</td>\n",
       "      <td>320622.0</td>\n",
       "    </tr>\n",
       "    <tr>\n",
       "      <th>19</th>\n",
       "      <td>2019</td>\n",
       "      <td>279963</td>\n",
       "      <td>304237</td>\n",
       "      <td>298947</td>\n",
       "      <td>316386.0</td>\n",
       "    </tr>\n",
       "    <tr>\n",
       "      <th>20</th>\n",
       "      <td>2020</td>\n",
       "      <td>282601</td>\n",
       "      <td>301457</td>\n",
       "      <td>290252</td>\n",
       "      <td>301313.0</td>\n",
       "    </tr>\n",
       "  </tbody>\n",
       "</table>\n",
       "</div>"
      ],
      "text/plain": [
       "    Year  February   March   April       May\n",
       "18  2018    284250  316044  298394  320622.0\n",
       "19  2019    279963  304237  298947  316386.0\n",
       "20  2020    282601  301457  290252  301313.0"
      ]
     },
     "execution_count": 43,
     "metadata": {},
     "output_type": "execute_result"
    }
   ],
   "source": [
    "Summer_birth = Summer.iloc[18:21]\n",
    "Summer_birth"
   ]
  },
  {
   "cell_type": "code",
   "execution_count": 44,
   "id": "c8932c00",
   "metadata": {},
   "outputs": [
    {
     "data": {
      "text/plain": [
       "Year          int64\n",
       "February      int64\n",
       "March         int64\n",
       "April         int64\n",
       "May         float64\n",
       "dtype: object"
      ]
     },
     "execution_count": 44,
     "metadata": {},
     "output_type": "execute_result"
    }
   ],
   "source": [
    "Summer_birth.dtypes"
   ]
  },
  {
   "cell_type": "code",
   "execution_count": 45,
   "id": "8595c6e7",
   "metadata": {},
   "outputs": [],
   "source": [
    "Year= Summer_birth['Year'].astype(str)"
   ]
  },
  {
   "cell_type": "code",
   "execution_count": 46,
   "id": "d236c24b",
   "metadata": {},
   "outputs": [
    {
     "name": "stderr",
     "output_type": "stream",
     "text": [
      "<ipython-input-46-2ccfbdf2044b>:1: SettingWithCopyWarning: \n",
      "A value is trying to be set on a copy of a slice from a DataFrame.\n",
      "Try using .loc[row_indexer,col_indexer] = value instead\n",
      "\n",
      "See the caveats in the documentation: https://pandas.pydata.org/pandas-docs/stable/user_guide/indexing.html#returning-a-view-versus-a-copy\n",
      "  Summer_birth['Year']= Year\n"
     ]
    }
   ],
   "source": [
    "Summer_birth['Year']= Year"
   ]
  },
  {
   "cell_type": "code",
   "execution_count": 47,
   "id": "d9af3f26",
   "metadata": {},
   "outputs": [
    {
     "data": {
      "text/plain": [
       "Year         object\n",
       "February      int64\n",
       "March         int64\n",
       "April         int64\n",
       "May         float64\n",
       "dtype: object"
      ]
     },
     "execution_count": 47,
     "metadata": {},
     "output_type": "execute_result"
    }
   ],
   "source": [
    "Summer_birth.dtypes"
   ]
  },
  {
   "cell_type": "code",
   "execution_count": 48,
   "id": "1d8d061f",
   "metadata": {},
   "outputs": [
    {
     "data": {
      "text/html": [
       "<div>\n",
       "<style scoped>\n",
       "    .dataframe tbody tr th:only-of-type {\n",
       "        vertical-align: middle;\n",
       "    }\n",
       "\n",
       "    .dataframe tbody tr th {\n",
       "        vertical-align: top;\n",
       "    }\n",
       "\n",
       "    .dataframe thead th {\n",
       "        text-align: right;\n",
       "    }\n",
       "</style>\n",
       "<table border=\"1\" class=\"dataframe\">\n",
       "  <thead>\n",
       "    <tr style=\"text-align: right;\">\n",
       "      <th></th>\n",
       "      <th>Year</th>\n",
       "      <th>February</th>\n",
       "      <th>March</th>\n",
       "      <th>April</th>\n",
       "      <th>May</th>\n",
       "    </tr>\n",
       "  </thead>\n",
       "  <tbody>\n",
       "    <tr>\n",
       "      <th>18</th>\n",
       "      <td>2018</td>\n",
       "      <td>284250</td>\n",
       "      <td>316044</td>\n",
       "      <td>298394</td>\n",
       "      <td>320622.0</td>\n",
       "    </tr>\n",
       "    <tr>\n",
       "      <th>19</th>\n",
       "      <td>2019</td>\n",
       "      <td>279963</td>\n",
       "      <td>304237</td>\n",
       "      <td>298947</td>\n",
       "      <td>316386.0</td>\n",
       "    </tr>\n",
       "    <tr>\n",
       "      <th>20</th>\n",
       "      <td>2020</td>\n",
       "      <td>282601</td>\n",
       "      <td>301457</td>\n",
       "      <td>290252</td>\n",
       "      <td>301313.0</td>\n",
       "    </tr>\n",
       "  </tbody>\n",
       "</table>\n",
       "</div>"
      ],
      "text/plain": [
       "    Year  February   March   April       May\n",
       "18  2018    284250  316044  298394  320622.0\n",
       "19  2019    279963  304237  298947  316386.0\n",
       "20  2020    282601  301457  290252  301313.0"
      ]
     },
     "execution_count": 48,
     "metadata": {},
     "output_type": "execute_result"
    }
   ],
   "source": [
    "Summer_birth"
   ]
  },
  {
   "cell_type": "code",
   "execution_count": 49,
   "id": "1ab84fe9",
   "metadata": {},
   "outputs": [],
   "source": [
    "total= Summer_birth.sum(axis=1)"
   ]
  },
  {
   "cell_type": "code",
   "execution_count": 50,
   "id": "70e06bcd",
   "metadata": {},
   "outputs": [
    {
     "name": "stderr",
     "output_type": "stream",
     "text": [
      "<ipython-input-50-1a9cd72f9abe>:1: SettingWithCopyWarning: \n",
      "A value is trying to be set on a copy of a slice from a DataFrame.\n",
      "Try using .loc[row_indexer,col_indexer] = value instead\n",
      "\n",
      "See the caveats in the documentation: https://pandas.pydata.org/pandas-docs/stable/user_guide/indexing.html#returning-a-view-versus-a-copy\n",
      "  Summer_birth['Total']= total\n"
     ]
    },
    {
     "data": {
      "text/html": [
       "<div>\n",
       "<style scoped>\n",
       "    .dataframe tbody tr th:only-of-type {\n",
       "        vertical-align: middle;\n",
       "    }\n",
       "\n",
       "    .dataframe tbody tr th {\n",
       "        vertical-align: top;\n",
       "    }\n",
       "\n",
       "    .dataframe thead th {\n",
       "        text-align: right;\n",
       "    }\n",
       "</style>\n",
       "<table border=\"1\" class=\"dataframe\">\n",
       "  <thead>\n",
       "    <tr style=\"text-align: right;\">\n",
       "      <th></th>\n",
       "      <th>Year</th>\n",
       "      <th>February</th>\n",
       "      <th>March</th>\n",
       "      <th>April</th>\n",
       "      <th>May</th>\n",
       "      <th>Total</th>\n",
       "    </tr>\n",
       "  </thead>\n",
       "  <tbody>\n",
       "    <tr>\n",
       "      <th>18</th>\n",
       "      <td>2018</td>\n",
       "      <td>284250</td>\n",
       "      <td>316044</td>\n",
       "      <td>298394</td>\n",
       "      <td>320622.0</td>\n",
       "      <td>1219310.0</td>\n",
       "    </tr>\n",
       "    <tr>\n",
       "      <th>19</th>\n",
       "      <td>2019</td>\n",
       "      <td>279963</td>\n",
       "      <td>304237</td>\n",
       "      <td>298947</td>\n",
       "      <td>316386.0</td>\n",
       "      <td>1199533.0</td>\n",
       "    </tr>\n",
       "    <tr>\n",
       "      <th>20</th>\n",
       "      <td>2020</td>\n",
       "      <td>282601</td>\n",
       "      <td>301457</td>\n",
       "      <td>290252</td>\n",
       "      <td>301313.0</td>\n",
       "      <td>1175623.0</td>\n",
       "    </tr>\n",
       "  </tbody>\n",
       "</table>\n",
       "</div>"
      ],
      "text/plain": [
       "    Year  February   March   April       May      Total\n",
       "18  2018    284250  316044  298394  320622.0  1219310.0\n",
       "19  2019    279963  304237  298947  316386.0  1199533.0\n",
       "20  2020    282601  301457  290252  301313.0  1175623.0"
      ]
     },
     "execution_count": 50,
     "metadata": {},
     "output_type": "execute_result"
    }
   ],
   "source": [
    "Summer_birth['Total']= total\n",
    "Summer_birth"
   ]
  },
  {
   "cell_type": "markdown",
   "id": "6187b086",
   "metadata": {},
   "source": [
    "### Write to csv"
   ]
  },
  {
   "cell_type": "code",
   "execution_count": 89,
   "id": "deda7cf2",
   "metadata": {},
   "outputs": [],
   "source": [
    "Summer_birth.to_csv('../data/Summer_birth.csv',index = False) # Create a csv file of the Pre COVID summer births"
   ]
  },
  {
   "cell_type": "markdown",
   "id": "68d03fa1",
   "metadata": {},
   "source": [
    "### Winter Births for 2017,2018,2019"
   ]
  },
  {
   "cell_type": "code",
   "execution_count": 51,
   "id": "c573d427",
   "metadata": {},
   "outputs": [
    {
     "data": {
      "text/html": [
       "<div>\n",
       "<style scoped>\n",
       "    .dataframe tbody tr th:only-of-type {\n",
       "        vertical-align: middle;\n",
       "    }\n",
       "\n",
       "    .dataframe tbody tr th {\n",
       "        vertical-align: top;\n",
       "    }\n",
       "\n",
       "    .dataframe thead th {\n",
       "        text-align: right;\n",
       "    }\n",
       "</style>\n",
       "<table border=\"1\" class=\"dataframe\">\n",
       "  <thead>\n",
       "    <tr style=\"text-align: right;\">\n",
       "      <th></th>\n",
       "      <th>CountryCode</th>\n",
       "      <th>Area</th>\n",
       "      <th>Year</th>\n",
       "      <th>January</th>\n",
       "      <th>February</th>\n",
       "      <th>March</th>\n",
       "      <th>April</th>\n",
       "      <th>May</th>\n",
       "      <th>June</th>\n",
       "      <th>July</th>\n",
       "      <th>August</th>\n",
       "      <th>September</th>\n",
       "      <th>October</th>\n",
       "      <th>November</th>\n",
       "      <th>December</th>\n",
       "      <th>UNK</th>\n",
       "      <th>TOT</th>\n",
       "    </tr>\n",
       "  </thead>\n",
       "  <tbody>\n",
       "    <tr>\n",
       "      <th>0</th>\n",
       "      <td>USA</td>\n",
       "      <td>1</td>\n",
       "      <td>2000</td>\n",
       "      <td>330108</td>\n",
       "      <td>317377</td>\n",
       "      <td>340553</td>\n",
       "      <td>317180</td>\n",
       "      <td>341207.0</td>\n",
       "      <td>341206</td>\n",
       "      <td>348975</td>\n",
       "      <td>360080</td>\n",
       "      <td>347609</td>\n",
       "      <td>343921</td>\n",
       "      <td>333811</td>\n",
       "      <td>336787</td>\n",
       "      <td>.</td>\n",
       "      <td>4058814</td>\n",
       "    </tr>\n",
       "    <tr>\n",
       "      <th>1</th>\n",
       "      <td>USA</td>\n",
       "      <td>1</td>\n",
       "      <td>2001</td>\n",
       "      <td>335198</td>\n",
       "      <td>303534</td>\n",
       "      <td>338684</td>\n",
       "      <td>323613</td>\n",
       "      <td>344017.0</td>\n",
       "      <td>331085</td>\n",
       "      <td>351047</td>\n",
       "      <td>361802</td>\n",
       "      <td>342564</td>\n",
       "      <td>344074</td>\n",
       "      <td>323746</td>\n",
       "      <td>326569</td>\n",
       "      <td>.</td>\n",
       "      <td>4025933</td>\n",
       "    </tr>\n",
       "    <tr>\n",
       "      <th>2</th>\n",
       "      <td>USA</td>\n",
       "      <td>1</td>\n",
       "      <td>2002</td>\n",
       "      <td>330674</td>\n",
       "      <td>303977</td>\n",
       "      <td>331505</td>\n",
       "      <td>324432</td>\n",
       "      <td>339007.0</td>\n",
       "      <td>327588</td>\n",
       "      <td>357669</td>\n",
       "      <td>359417</td>\n",
       "      <td>348814</td>\n",
       "      <td>345814</td>\n",
       "      <td>318573</td>\n",
       "      <td>334256</td>\n",
       "      <td>.</td>\n",
       "      <td>4021726</td>\n",
       "    </tr>\n",
       "    <tr>\n",
       "      <th>3</th>\n",
       "      <td>USA</td>\n",
       "      <td>1</td>\n",
       "      <td>2003</td>\n",
       "      <td>329803</td>\n",
       "      <td>307248</td>\n",
       "      <td>336920</td>\n",
       "      <td>330106</td>\n",
       "      <td>346754.0</td>\n",
       "      <td>337425</td>\n",
       "      <td>364226</td>\n",
       "      <td>360103</td>\n",
       "      <td>359644</td>\n",
       "      <td>354048</td>\n",
       "      <td>320094</td>\n",
       "      <td>343579</td>\n",
       "      <td>.</td>\n",
       "      <td>4089950</td>\n",
       "    </tr>\n",
       "    <tr>\n",
       "      <th>4</th>\n",
       "      <td>USA</td>\n",
       "      <td>1</td>\n",
       "      <td>2004</td>\n",
       "      <td>332907</td>\n",
       "      <td>315821</td>\n",
       "      <td>346348</td>\n",
       "      <td>333335</td>\n",
       "      <td>337651.0</td>\n",
       "      <td>344881</td>\n",
       "      <td>359426</td>\n",
       "      <td>355408</td>\n",
       "      <td>356033</td>\n",
       "      <td>348466</td>\n",
       "      <td>335704</td>\n",
       "      <td>346072</td>\n",
       "      <td>.</td>\n",
       "      <td>4112052</td>\n",
       "    </tr>\n",
       "  </tbody>\n",
       "</table>\n",
       "</div>"
      ],
      "text/plain": [
       "  CountryCode  Area  Year  January  February   March   April       May  \\\n",
       "0         USA     1  2000   330108    317377  340553  317180  341207.0   \n",
       "1         USA     1  2001   335198    303534  338684  323613  344017.0   \n",
       "2         USA     1  2002   330674    303977  331505  324432  339007.0   \n",
       "3         USA     1  2003   329803    307248  336920  330106  346754.0   \n",
       "4         USA     1  2004   332907    315821  346348  333335  337651.0   \n",
       "\n",
       "     June    July  August September October November December UNK      TOT  \n",
       "0  341206  348975  360080    347609  343921   333811   336787   .  4058814  \n",
       "1  331085  351047  361802    342564  344074   323746   326569   .  4025933  \n",
       "2  327588  357669  359417    348814  345814   318573   334256   .  4021726  \n",
       "3  337425  364226  360103    359644  354048   320094   343579   .  4089950  \n",
       "4  344881  359426  355408    356033  348466   335704   346072   .  4112052  "
      ]
     },
     "execution_count": 51,
     "metadata": {},
     "output_type": "execute_result"
    }
   ],
   "source": [
    "Birth.head()"
   ]
  },
  {
   "cell_type": "code",
   "execution_count": 52,
   "id": "bf78b292",
   "metadata": {},
   "outputs": [],
   "source": [
    "winter = Birth[['Year','August','September','October','November']]"
   ]
  },
  {
   "cell_type": "code",
   "execution_count": 53,
   "id": "96d3570f",
   "metadata": {},
   "outputs": [
    {
     "data": {
      "text/html": [
       "<div>\n",
       "<style scoped>\n",
       "    .dataframe tbody tr th:only-of-type {\n",
       "        vertical-align: middle;\n",
       "    }\n",
       "\n",
       "    .dataframe tbody tr th {\n",
       "        vertical-align: top;\n",
       "    }\n",
       "\n",
       "    .dataframe thead th {\n",
       "        text-align: right;\n",
       "    }\n",
       "</style>\n",
       "<table border=\"1\" class=\"dataframe\">\n",
       "  <thead>\n",
       "    <tr style=\"text-align: right;\">\n",
       "      <th></th>\n",
       "      <th>Year</th>\n",
       "      <th>August</th>\n",
       "      <th>September</th>\n",
       "      <th>October</th>\n",
       "      <th>November</th>\n",
       "    </tr>\n",
       "  </thead>\n",
       "  <tbody>\n",
       "    <tr>\n",
       "      <th>17</th>\n",
       "      <td>2017</td>\n",
       "      <td>352151</td>\n",
       "      <td>337175</td>\n",
       "      <td>329869</td>\n",
       "      <td>316511</td>\n",
       "    </tr>\n",
       "    <tr>\n",
       "      <th>18</th>\n",
       "      <td>2018</td>\n",
       "      <td>344750</td>\n",
       "      <td>322772</td>\n",
       "      <td>326778</td>\n",
       "      <td>308703</td>\n",
       "    </tr>\n",
       "    <tr>\n",
       "      <th>19</th>\n",
       "      <td>2019</td>\n",
       "      <td>341685</td>\n",
       "      <td>325781</td>\n",
       "      <td>325043</td>\n",
       "      <td>298086</td>\n",
       "    </tr>\n",
       "  </tbody>\n",
       "</table>\n",
       "</div>"
      ],
      "text/plain": [
       "    Year  August September October November\n",
       "17  2017  352151    337175  329869   316511\n",
       "18  2018  344750    322772  326778   308703\n",
       "19  2019  341685    325781  325043   298086"
      ]
     },
     "execution_count": 53,
     "metadata": {},
     "output_type": "execute_result"
    }
   ],
   "source": [
    "winter_birth= winter.iloc[17:20]\n",
    "winter_birth"
   ]
  },
  {
   "cell_type": "code",
   "execution_count": 54,
   "id": "c901ac2d",
   "metadata": {},
   "outputs": [
    {
     "data": {
      "text/plain": [
       "Year          int64\n",
       "August       object\n",
       "September    object\n",
       "October      object\n",
       "November     object\n",
       "dtype: object"
      ]
     },
     "execution_count": 54,
     "metadata": {},
     "output_type": "execute_result"
    }
   ],
   "source": [
    "winter_birth.dtypes"
   ]
  },
  {
   "cell_type": "code",
   "execution_count": 78,
   "id": "16120d1f",
   "metadata": {},
   "outputs": [],
   "source": [
    "months = winter_birth[['August','September','October','November']].astype(int)"
   ]
  },
  {
   "cell_type": "code",
   "execution_count": 79,
   "id": "5cfb001a",
   "metadata": {},
   "outputs": [
    {
     "name": "stderr",
     "output_type": "stream",
     "text": [
      "C:\\Users\\Test\\lib\\site-packages\\pandas\\core\\frame.py:3191: SettingWithCopyWarning: \n",
      "A value is trying to be set on a copy of a slice from a DataFrame.\n",
      "Try using .loc[row_indexer,col_indexer] = value instead\n",
      "\n",
      "See the caveats in the documentation: https://pandas.pydata.org/pandas-docs/stable/user_guide/indexing.html#returning-a-view-versus-a-copy\n",
      "  self[k1] = value[k2]\n"
     ]
    }
   ],
   "source": [
    "winter_birth[['August','September','October','November']] = months"
   ]
  },
  {
   "cell_type": "code",
   "execution_count": 81,
   "id": "f68b9157",
   "metadata": {},
   "outputs": [],
   "source": [
    "year= winter_birth['Year'].astype(str)"
   ]
  },
  {
   "cell_type": "code",
   "execution_count": 82,
   "id": "08f2417e",
   "metadata": {},
   "outputs": [
    {
     "name": "stderr",
     "output_type": "stream",
     "text": [
      "<ipython-input-82-2327839b0d78>:1: SettingWithCopyWarning: \n",
      "A value is trying to be set on a copy of a slice from a DataFrame.\n",
      "Try using .loc[row_indexer,col_indexer] = value instead\n",
      "\n",
      "See the caveats in the documentation: https://pandas.pydata.org/pandas-docs/stable/user_guide/indexing.html#returning-a-view-versus-a-copy\n",
      "  winter_birth['Year']= year\n"
     ]
    }
   ],
   "source": [
    "winter_birth['Year']= year"
   ]
  },
  {
   "cell_type": "code",
   "execution_count": 83,
   "id": "51db9c68",
   "metadata": {},
   "outputs": [
    {
     "data": {
      "text/plain": [
       "Year         object\n",
       "August        int32\n",
       "September     int32\n",
       "October       int32\n",
       "November      int32\n",
       "dtype: object"
      ]
     },
     "execution_count": 83,
     "metadata": {},
     "output_type": "execute_result"
    }
   ],
   "source": [
    "winter_birth.dtypes"
   ]
  },
  {
   "cell_type": "code",
   "execution_count": 85,
   "id": "aba30a5c",
   "metadata": {},
   "outputs": [],
   "source": [
    "Win_total = winter_birth.sum(axis=1)"
   ]
  },
  {
   "cell_type": "code",
   "execution_count": 86,
   "id": "e7f149f6",
   "metadata": {},
   "outputs": [
    {
     "name": "stderr",
     "output_type": "stream",
     "text": [
      "<ipython-input-86-80507f2cbd81>:1: SettingWithCopyWarning: \n",
      "A value is trying to be set on a copy of a slice from a DataFrame.\n",
      "Try using .loc[row_indexer,col_indexer] = value instead\n",
      "\n",
      "See the caveats in the documentation: https://pandas.pydata.org/pandas-docs/stable/user_guide/indexing.html#returning-a-view-versus-a-copy\n",
      "  winter_birth['Total']= Win_total\n"
     ]
    }
   ],
   "source": [
    "winter_birth['Total']= Win_total"
   ]
  },
  {
   "cell_type": "code",
   "execution_count": 87,
   "id": "e7d5c572",
   "metadata": {},
   "outputs": [
    {
     "data": {
      "text/html": [
       "<div>\n",
       "<style scoped>\n",
       "    .dataframe tbody tr th:only-of-type {\n",
       "        vertical-align: middle;\n",
       "    }\n",
       "\n",
       "    .dataframe tbody tr th {\n",
       "        vertical-align: top;\n",
       "    }\n",
       "\n",
       "    .dataframe thead th {\n",
       "        text-align: right;\n",
       "    }\n",
       "</style>\n",
       "<table border=\"1\" class=\"dataframe\">\n",
       "  <thead>\n",
       "    <tr style=\"text-align: right;\">\n",
       "      <th></th>\n",
       "      <th>Year</th>\n",
       "      <th>August</th>\n",
       "      <th>September</th>\n",
       "      <th>October</th>\n",
       "      <th>November</th>\n",
       "      <th>Total</th>\n",
       "    </tr>\n",
       "  </thead>\n",
       "  <tbody>\n",
       "    <tr>\n",
       "      <th>17</th>\n",
       "      <td>2017</td>\n",
       "      <td>352151</td>\n",
       "      <td>337175</td>\n",
       "      <td>329869</td>\n",
       "      <td>316511</td>\n",
       "      <td>1335706</td>\n",
       "    </tr>\n",
       "    <tr>\n",
       "      <th>18</th>\n",
       "      <td>2018</td>\n",
       "      <td>344750</td>\n",
       "      <td>322772</td>\n",
       "      <td>326778</td>\n",
       "      <td>308703</td>\n",
       "      <td>1303003</td>\n",
       "    </tr>\n",
       "    <tr>\n",
       "      <th>19</th>\n",
       "      <td>2019</td>\n",
       "      <td>341685</td>\n",
       "      <td>325781</td>\n",
       "      <td>325043</td>\n",
       "      <td>298086</td>\n",
       "      <td>1290595</td>\n",
       "    </tr>\n",
       "  </tbody>\n",
       "</table>\n",
       "</div>"
      ],
      "text/plain": [
       "    Year  August  September  October  November    Total\n",
       "17  2017  352151     337175   329869    316511  1335706\n",
       "18  2018  344750     322772   326778    308703  1303003\n",
       "19  2019  341685     325781   325043    298086  1290595"
      ]
     },
     "execution_count": 87,
     "metadata": {},
     "output_type": "execute_result"
    }
   ],
   "source": [
    "winter_birth"
   ]
  },
  {
   "cell_type": "markdown",
   "id": "a40d6d4e",
   "metadata": {},
   "source": [
    "### Write to cvs"
   ]
  },
  {
   "cell_type": "code",
   "execution_count": 88,
   "id": "0d4ea527",
   "metadata": {},
   "outputs": [],
   "source": [
    "#winter_birth.to_csv('../data/winter_birth.csv', index = False) # Create a csv file of the Pre COVID winter births"
   ]
  },
  {
   "cell_type": "markdown",
   "id": "a4002f3c",
   "metadata": {},
   "source": [
    "### Gathering birth dataset"
   ]
  },
  {
   "cell_type": "code",
   "execution_count": 104,
   "id": "4642b877",
   "metadata": {},
   "outputs": [],
   "source": [
    "#API \n",
    "\n",
    "import requests\n",
    "from IPython.display import Image\n",
    "from pandas.plotting import andrews_curves\n"
   ]
  },
  {
   "cell_type": "code",
   "execution_count": 107,
   "id": "8759a1f3",
   "metadata": {},
   "outputs": [],
   "source": [
    "endpoint = 'https://api.census.gov/data/2019/acs/acs1/profile?get=group(DP03)&for=metropolitan%20statistical%20area/micropolitan%20statistical%20area:*'"
   ]
  },
  {
   "cell_type": "code",
   "execution_count": null,
   "id": "734af2d5",
   "metadata": {},
   "outputs": [],
   "source": [
    "# https://api.census.gov/data/2017/pep/population?get=GEONAME,POP&for=state:01&key=YOUR_KEY_GOES_HERE"
   ]
  },
  {
   "cell_type": "code",
   "execution_count": null,
   "id": "d667eccf",
   "metadata": {},
   "outputs": [],
   "source": [
    "# endpoint = 'api.census.gov/data/2017/pep/components?get=BIRTHS,DEATHS,GEONAME&for=state:06&PERIOD=7&key=YOUR_KEY'"
   ]
  },
  {
   "cell_type": "code",
   "execution_count": null,
   "id": "bfae57a6",
   "metadata": {},
   "outputs": [],
   "source": [
    "parameters"
   ]
  },
  {
   "cell_type": "code",
   "execution_count": 108,
   "id": "6a61fcd5",
   "metadata": {},
   "outputs": [
    {
     "name": "stdout",
     "output_type": "stream",
     "text": [
      "Success :-)\n"
     ]
    }
   ],
   "source": [
    "response = requests.get(endpoint)\n",
    "response.status_code\n",
    "if response.status_code == 200:\n",
    "    print('Success :-)')\n",
    "else:\n",
    "    print('Not Found.')"
   ]
  },
  {
   "cell_type": "code",
   "execution_count": 109,
   "id": "7e3ff9ee",
   "metadata": {},
   "outputs": [
    {
     "name": "stderr",
     "output_type": "stream",
     "text": [
      "IOPub data rate exceeded.\n",
      "The notebook server will temporarily stop sending output\n",
      "to the client in order to avoid crashing it.\n",
      "To change this limit, set the config variable\n",
      "`--NotebookApp.iopub_data_rate_limit`.\n",
      "\n",
      "Current values:\n",
      "NotebookApp.iopub_data_rate_limit=1000000.0 (bytes/sec)\n",
      "NotebookApp.rate_limit_window=3.0 (secs)\n",
      "\n"
     ]
    }
   ],
   "source": [
    "print (response.text) # the response text data "
   ]
  },
  {
   "cell_type": "code",
   "execution_count": null,
   "id": "f3557ada",
   "metadata": {},
   "outputs": [],
   "source": [
    "#print (response.headers) # all the headers "
   ]
  },
  {
   "cell_type": "code",
   "execution_count": null,
   "id": "dd4e152e",
   "metadata": {},
   "outputs": [],
   "source": [
    "json_response = response.json () # to see the json data \n",
    "type (json_response) # the type of data format "
   ]
  },
  {
   "cell_type": "code",
   "execution_count": null,
   "id": "e512d1df",
   "metadata": {},
   "outputs": [],
   "source": []
  },
  {
   "cell_type": "code",
   "execution_count": null,
   "id": "18e7653a",
   "metadata": {},
   "outputs": [],
   "source": []
  },
  {
   "cell_type": "code",
   "execution_count": null,
   "id": "42378ad6",
   "metadata": {},
   "outputs": [],
   "source": []
  },
  {
   "cell_type": "code",
   "execution_count": null,
   "id": "a81bc4c9",
   "metadata": {},
   "outputs": [],
   "source": []
  },
  {
   "cell_type": "code",
   "execution_count": null,
   "id": "fa3a6c09",
   "metadata": {},
   "outputs": [],
   "source": []
  },
  {
   "cell_type": "code",
   "execution_count": null,
   "id": "802743ef",
   "metadata": {},
   "outputs": [],
   "source": []
  },
  {
   "cell_type": "code",
   "execution_count": null,
   "id": "da53a388",
   "metadata": {},
   "outputs": [],
   "source": []
  },
  {
   "cell_type": "code",
   "execution_count": null,
   "id": "243fb067",
   "metadata": {},
   "outputs": [],
   "source": []
  },
  {
   "cell_type": "code",
   "execution_count": null,
   "id": "c9f03321",
   "metadata": {},
   "outputs": [],
   "source": []
  },
  {
   "cell_type": "code",
   "execution_count": null,
   "id": "2f69431c",
   "metadata": {},
   "outputs": [],
   "source": []
  },
  {
   "cell_type": "code",
   "execution_count": null,
   "id": "171af5b7",
   "metadata": {},
   "outputs": [],
   "source": []
  },
  {
   "cell_type": "code",
   "execution_count": null,
   "id": "42098d0f",
   "metadata": {},
   "outputs": [],
   "source": []
  },
  {
   "cell_type": "code",
   "execution_count": null,
   "id": "8af4b021",
   "metadata": {},
   "outputs": [],
   "source": []
  },
  {
   "cell_type": "code",
   "execution_count": null,
   "id": "559532f4",
   "metadata": {},
   "outputs": [],
   "source": []
  },
  {
   "cell_type": "code",
   "execution_count": null,
   "id": "3ed8da4a",
   "metadata": {},
   "outputs": [],
   "source": []
  },
  {
   "cell_type": "code",
   "execution_count": null,
   "id": "607bf410",
   "metadata": {},
   "outputs": [],
   "source": []
  },
  {
   "cell_type": "markdown",
   "id": "5f647e76",
   "metadata": {},
   "source": [
    "### Create female childbearing population table"
   ]
  },
  {
   "cell_type": "code",
   "execution_count": 55,
   "id": "440e682a",
   "metadata": {},
   "outputs": [],
   "source": [
    "# North_Dakota = pd.read_excel('../data/North_Dakota.xlsx',skiprows=4)\n",
    "# North_Dakota.head(3)"
   ]
  },
  {
   "cell_type": "code",
   "execution_count": 56,
   "id": "59d2d2f7",
   "metadata": {},
   "outputs": [],
   "source": [
    "# North_Dakota_age= North_Dakota[['Age','2017 Female','2018 Female','2019 Female']]\n",
    "# North_Dakota_age.head()"
   ]
  },
  {
   "cell_type": "code",
   "execution_count": 57,
   "id": "a1daee5e",
   "metadata": {},
   "outputs": [],
   "source": [
    "# North_Dakota_age2= North_Dakota_age.iloc[5:11]"
   ]
  },
  {
   "cell_type": "code",
   "execution_count": 58,
   "id": "8ec0041e",
   "metadata": {},
   "outputs": [],
   "source": [
    "# North_Dakota_age2"
   ]
  },
  {
   "cell_type": "code",
   "execution_count": null,
   "id": "801480f1",
   "metadata": {},
   "outputs": [],
   "source": []
  },
  {
   "cell_type": "code",
   "execution_count": null,
   "id": "3864f9d3",
   "metadata": {},
   "outputs": [],
   "source": []
  },
  {
   "cell_type": "code",
   "execution_count": null,
   "id": "c08deaaf",
   "metadata": {},
   "outputs": [],
   "source": []
  },
  {
   "cell_type": "code",
   "execution_count": null,
   "id": "d17b30df",
   "metadata": {},
   "outputs": [],
   "source": []
  },
  {
   "cell_type": "code",
   "execution_count": null,
   "id": "b8cb17d7",
   "metadata": {},
   "outputs": [],
   "source": []
  },
  {
   "cell_type": "code",
   "execution_count": null,
   "id": "77714c54",
   "metadata": {},
   "outputs": [],
   "source": []
  },
  {
   "cell_type": "code",
   "execution_count": null,
   "id": "9e34d6da",
   "metadata": {},
   "outputs": [],
   "source": []
  },
  {
   "cell_type": "code",
   "execution_count": null,
   "id": "5090664f",
   "metadata": {},
   "outputs": [],
   "source": []
  },
  {
   "cell_type": "code",
   "execution_count": null,
   "id": "c073e5c7",
   "metadata": {},
   "outputs": [],
   "source": []
  },
  {
   "cell_type": "code",
   "execution_count": null,
   "id": "7304e551",
   "metadata": {},
   "outputs": [],
   "source": []
  },
  {
   "cell_type": "code",
   "execution_count": null,
   "id": "cfad9abf",
   "metadata": {},
   "outputs": [],
   "source": []
  },
  {
   "cell_type": "code",
   "execution_count": null,
   "id": "d036bdae",
   "metadata": {},
   "outputs": [],
   "source": []
  },
  {
   "cell_type": "code",
   "execution_count": null,
   "id": "c191b261",
   "metadata": {},
   "outputs": [],
   "source": []
  },
  {
   "cell_type": "code",
   "execution_count": null,
   "id": "ff3c53aa",
   "metadata": {},
   "outputs": [],
   "source": []
  },
  {
   "cell_type": "code",
   "execution_count": null,
   "id": "41c697da",
   "metadata": {},
   "outputs": [],
   "source": []
  },
  {
   "cell_type": "markdown",
   "id": "3483829b",
   "metadata": {},
   "source": [
    "## Get the Weather Data from National Centers for Environmental Information (NCEI)"
   ]
  },
  {
   "cell_type": "code",
   "execution_count": 59,
   "id": "58178b67",
   "metadata": {},
   "outputs": [],
   "source": [
    "# endpoint = 'https://www.ncei.noaa.gov/access/services/data/v1?dataset=global-summary-of-the-year&dataTypes=DP01,DP05,DP10,DSND,DSNW,DT00,DT32,DX32,DX70,DX90,SNOW,PRCP&stations=ASN00084027&startDate=1952-01-01&endDate=1970-12-31&includeAttributes=true&format=json'"
   ]
  },
  {
   "cell_type": "code",
   "execution_count": 60,
   "id": "91d1d950",
   "metadata": {},
   "outputs": [],
   "source": [
    "# https://www.ncei.noaa.gov/access/services/data/v1?dataset=global-summary-of-the-year&dataTypes=DP01,DP05,DP10,DSND,DSNW,DT00,DT32,DX32,DX70,DX90,SNOW,PRCP&stations=ASN00084027&startDate=1952-01-01&endDate=1970-12-31&includeAttributes=true&format=json"
   ]
  },
  {
   "cell_type": "code",
   "execution_count": 61,
   "id": "f7283bfa",
   "metadata": {},
   "outputs": [],
   "source": [
    "# endpoint = 'https://data.nashville.gov/resource/fuaa-r5cm.json'  # got the endpoint off the website "
   ]
  },
  {
   "cell_type": "code",
   "execution_count": 62,
   "id": "2da248d6",
   "metadata": {},
   "outputs": [],
   "source": [
    "# parameters= {\"year\": \"2016\",\"query_text\": \"fire\", '$limit': 50000} #set my parameters in a dictionary (what i'm looking for)"
   ]
  },
  {
   "cell_type": "code",
   "execution_count": 63,
   "id": "14dc6443",
   "metadata": {},
   "outputs": [],
   "source": [
    "# response= requests.get(endpoint) # requested to get the website API. \n",
    "# response.status_code\n",
    "# if response.status_code == 200:\n",
    "#     print('Success :-)')\n",
    "# else:\n",
    "#     print('Not Found.')"
   ]
  },
  {
   "cell_type": "code",
   "execution_count": 64,
   "id": "70557b28",
   "metadata": {},
   "outputs": [],
   "source": [
    "# print (response.text) # the response text data "
   ]
  },
  {
   "cell_type": "code",
   "execution_count": 65,
   "id": "d040a497",
   "metadata": {
    "scrolled": true
   },
   "outputs": [],
   "source": [
    "# print (response.headers) # all the headers "
   ]
  },
  {
   "cell_type": "code",
   "execution_count": 66,
   "id": "b402a9be",
   "metadata": {},
   "outputs": [],
   "source": [
    "# json_response = response.json () # to see the json data \n",
    "# #type (json_response) # the type of data format \n",
    "# print(json_response)"
   ]
  },
  {
   "cell_type": "code",
   "execution_count": 67,
   "id": "3a0a5d75",
   "metadata": {},
   "outputs": [],
   "source": [
    "# weather = pd.DataFrame (json_response) #changed the json into a data frame "
   ]
  },
  {
   "cell_type": "code",
   "execution_count": 68,
   "id": "64cf9a0e",
   "metadata": {},
   "outputs": [],
   "source": [
    "#weather.head()"
   ]
  },
  {
   "cell_type": "code",
   "execution_count": 69,
   "id": "68c8046c",
   "metadata": {},
   "outputs": [],
   "source": [
    "# weather.describe()"
   ]
  },
  {
   "cell_type": "code",
   "execution_count": 70,
   "id": "6163ca0f",
   "metadata": {},
   "outputs": [],
   "source": [
    "# Monthly Avg. Temperature (ºF)"
   ]
  }
 ],
 "metadata": {
  "kernelspec": {
   "display_name": "Python 3",
   "language": "python",
   "name": "python3"
  },
  "language_info": {
   "codemirror_mode": {
    "name": "ipython",
    "version": 3
   },
   "file_extension": ".py",
   "mimetype": "text/x-python",
   "name": "python",
   "nbconvert_exporter": "python",
   "pygments_lexer": "ipython3",
   "version": "3.8.8"
  }
 },
 "nbformat": 4,
 "nbformat_minor": 5
}
